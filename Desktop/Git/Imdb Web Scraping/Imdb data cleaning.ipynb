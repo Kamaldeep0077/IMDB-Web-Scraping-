{
 "cells": [
  {
   "cell_type": "code",
   "execution_count": null,
   "metadata": {},
   "outputs": [],
   "source": [
    "Imdb = pd.read_csv('IMDB data.csv')"
   ]
  },
  {
   "cell_type": "code",
   "execution_count": null,
   "metadata": {},
   "outputs": [],
   "source": [
    "Imdb.head()"
   ]
  },
  {
   "cell_type": "code",
   "execution_count": null,
   "metadata": {},
   "outputs": [],
   "source": [
    "Imdb.dtypes"
   ]
  },
  {
   "cell_type": "code",
   "execution_count": null,
   "metadata": {},
   "outputs": [],
   "source": [
    "import re\n",
    "Imdb['User_Review'] = Imdb['User_Review'].apply(lambda x: re.sub('[^0-9]','',x))   \n",
    "Imdb['Runtime(min)'] = Imdb['Runtime'].apply(lambda x: re.sub('[^0-9]','',x))\n",
    "Imdb['Budget_Currency_Sign'] = Imdb['Budget'].apply(lambda x: re.sub('[,,0-9]','',x))\n",
    "Imdb['Budget_New'] = Imdb['Budget'].apply(lambda x: re.sub('[^0-9]','',x))"
   ]
  },
  {
   "cell_type": "code",
   "execution_count": null,
   "metadata": {},
   "outputs": [],
   "source": [
    "Imdb['Budget_New'] = Imdb['Budget_New'].replace({'':np.nan}).astype(float)"
   ]
  },
  {
   "cell_type": "code",
   "execution_count": null,
   "metadata": {},
   "outputs": [],
   "source": [
    "Imdb['Budget_Currency_Sign'].value_counts()"
   ]
  },
  {
   "cell_type": "code",
   "execution_count": null,
   "metadata": {},
   "outputs": [],
   "source": [
    "def conversion(x, y):\n",
    "    if x == 'EUR':\n",
    "        return round(y*1.18)\n",
    "    elif x == 'GBP':\n",
    "        return round(y*1.31)\n",
    "    elif x == 'INR':\n",
    "        return round(y*0.013)\n",
    "    elif x == 'JPY':\n",
    "        return round(y*0.0096)\n",
    "    elif x == 'FRF':\n",
    "        return round(y*0.18)\n",
    "    elif x == 'RUR':\n",
    "        return round(y*0.014)\n",
    "    elif x == 'DEM':\n",
    "        return round(y*0.6)\n",
    "    elif x == 'KRW':\n",
    "        return round(y*0.00084)\n",
    "    elif x == 'ESP':\n",
    "        return round(y*1.18)\n",
    "    elif x == 'SEK':\n",
    "        return round(y*0.11)\n",
    "    elif x == 'ITL':\n",
    "        return round(y*0.0006082)\n",
    "    elif x == 'DKK':\n",
    "        return round(y*0.16)\n",
    "    elif x == 'BRL':\n",
    "        return round(y*0.19)\n",
    "    elif x == 'AUD':\n",
    "        return round(y*0.72)\n",
    "    elif x == 'CAD':\n",
    "        return round(y*0.74)\n",
    "    elif x == 'TRL':\n",
    "        return round(y*0.74)\n",
    "    elif x == '$':\n",
    "        return round(y*1)\n",
    "    else:\n",
    "        np.nan\n",
    "\n",
    "Imdb['Budget_New'] = Imdb.apply(lambda x: conversion(x['Budget_Currency_Sign'], x['Budget_New']), axis=1)\n",
    "        "
   ]
  },
  {
   "cell_type": "code",
   "execution_count": null,
   "metadata": {},
   "outputs": [],
   "source": [
    "for i in ['Metascore', 'Gross_USA', 'Total_Gross']:\n",
    "    Imdb[i] = Imdb[i].replace({'No data': np.nan})"
   ]
  },
  {
   "cell_type": "code",
   "execution_count": null,
   "metadata": {},
   "outputs": [],
   "source": [
    "Imdb.head()"
   ]
  },
  {
   "cell_type": "code",
   "execution_count": null,
   "metadata": {},
   "outputs": [],
   "source": [
    "Imdb.drop(['Runtime', 'Budget', 'Budget_Currency_Sign'], axis=1, inplace=True)"
   ]
  },
  {
   "cell_type": "code",
   "execution_count": null,
   "metadata": {},
   "outputs": [],
   "source": [
    "Imdb.to_csv('imdb cleaned.csv', index=False)"
   ]
  },
  {
   "cell_type": "code",
   "execution_count": null,
   "metadata": {},
   "outputs": [],
   "source": [
    "Imdb['Maturity_Rating'].value_counts()"
   ]
  },
  {
   "cell_type": "code",
   "execution_count": null,
   "metadata": {},
   "outputs": [],
   "source": [
    "seperate_genre=['Action','Adventure','Animation','Biography','Comedy','Crime','Drama','Fantasy','Family','History','Horror','Music','Musical','Mystery','Romance','Sci-Fi','Sport','Thriller','War','Western']\n",
    "\n",
    "for genre in seperate_genre:\n",
    "    df = Imdb['Genre'].str.contains(genre).fillna(False)\n",
    "    print('The total number of movies with ',genre,'=',len(Imdb[df]))"
   ]
  },
  {
   "cell_type": "code",
   "execution_count": null,
   "metadata": {},
   "outputs": [],
   "source": [
    "# Spliting Lead Cast Column to 3 seperate new columns \n",
    "cast_list = Imdb['Lead_Cast'].str.split(',', expand=True)\n",
    "Imdb['Lead_Cast1'] = cast_list[0]\n",
    "Imdb['Lead_Cast2'] = cast_list[1]\n",
    "Imdb['Lead_Cast3'] = cast_list[2]"
   ]
  },
  {
   "cell_type": "code",
   "execution_count": null,
   "metadata": {},
   "outputs": [],
   "source": [
    "genre_list = Imdb['Genre'].str.split(',', expand=True)\n",
    "Imdb['Genre1'] = genre_list[0]\n",
    "Imdb['Genre2'] = genre_list[1]\n",
    "Imdb['Genre3'] = genre_list[2]"
   ]
  },
  {
   "cell_type": "code",
   "execution_count": null,
   "metadata": {},
   "outputs": [],
   "source": [
    "Imdb['Genre2'] = Imdb['Genre2'].replace({None:''})\n",
    "Imdb['Genre3'] = Imdb['Genre3'].replace({None:''})"
   ]
  },
  {
   "cell_type": "code",
   "execution_count": null,
   "metadata": {},
   "outputs": [],
   "source": [
    "genre = Imdb['Genre'].str.split(',').apply(pd.Series, 1).stack()\n",
    "genre.index = genre.index.droplevel(-1)\n",
    "genre.name = 'Genre'\n",
    "genre = genre.apply(lambda x: re.sub('[\" \"]','',x))\n",
    "imdb_genre = pd.merge(Imdb, genre, left_index=True, right_index=True)\n"
   ]
  },
  {
   "cell_type": "code",
   "execution_count": null,
   "metadata": {},
   "outputs": [],
   "source": [
    "imdb_genre.to_csv('imdb(genre).csv', index=False)"
   ]
  },
  {
   "cell_type": "code",
   "execution_count": null,
   "metadata": {},
   "outputs": [],
   "source": [
    "Imdb.to_csv('imdb cleaned.csv', index=False)"
   ]
  },
  {
   "cell_type": "code",
   "execution_count": null,
   "metadata": {},
   "outputs": [],
   "source": [
    "Imdb = pd.read_csv('IMDB data.csv')"
   ]
  }
 ],
 "metadata": {
  "kernelspec": {
   "display_name": "Python 3",
   "language": "python",
   "name": "python3"
  },
  "language_info": {
   "codemirror_mode": {
    "name": "ipython",
    "version": 3
   },
   "file_extension": ".py",
   "mimetype": "text/x-python",
   "name": "python",
   "nbconvert_exporter": "python",
   "pygments_lexer": "ipython3",
   "version": "3.7.6"
  }
 },
 "nbformat": 4,
 "nbformat_minor": 4
}
